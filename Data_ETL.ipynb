{
 "cells": [
  {
   "cell_type": "markdown",
   "id": "235f22cd-d570-466d-b19a-2a6807a4506e",
   "metadata": {},
   "source": [
    "# **<span style=\"color:#1E90FF\">Task 1 - Data Extracting (Scraping) :</span>**\n",
    "---"
   ]
  },
  {
   "cell_type": "markdown",
   "id": "a4891098-f3cf-4f35-afda-99564a5d1a12",
   "metadata": {},
   "source": [
    "**<h2 style=\"color: #00008B;\">A. Use IMDB website:</h2>**\n"
   ]
  },
  {
   "cell_type": "markdown",
   "id": "7d8d5b14-438c-4920-b947-a7c663324793",
   "metadata": {},
   "source": [
    "**• You are required to extract data from the IMDB** (_Internet Movie Database_) **, Website:\n",
    "https://www.imdb.com/chart/top/**\n",
    "\n",
    "**• This page contains links to Top 250 Movies.**"
   ]
  },
  {
   "cell_type": "code",
   "execution_count": 1,
   "id": "5fa69a08-eb85-4b0f-acf6-c9eb4aad4ef1",
   "metadata": {
    "tags": []
   },
   "outputs": [],
   "source": [
    "import requests\n",
    "from bs4 import BeautifulSoup\n",
    "import pandas as pd\n",
    "from tqdm import tqdm\n",
    "import time , re"
   ]
  },
  {
   "cell_type": "code",
   "execution_count": 2,
   "id": "309f92e1-352b-43da-b641-718b0826c6c6",
   "metadata": {
    "tags": []
   },
   "outputs": [],
   "source": [
    "HEADERS = {\n",
    "    \"User-Agent\": \"Mozilla/5.0 (Windows NT 10.0; Win64; x64) AppleWebKit/537.36 (KHTML, like Gecko) Chrome/91.0.4472.124 Safari/537.36\",\n",
    "    \"Accept-Language\": \"en-US,en;q=0.9\"\n",
    "}\n",
    "BASE_URL = 'https://www.imdb.com'"
   ]
  },
  {
   "cell_type": "code",
   "execution_count": 3,
   "id": "ad4c0730-85ab-4d91-acab-fc97edd3f76d",
   "metadata": {
    "tags": []
   },
   "outputs": [],
   "source": [
    "response = requests.get(f\"{BASE_URL}/chart/top/\", headers=HEADERS)\n",
    "soup = BeautifulSoup(response.text, 'html.parser')\n",
    "movie_elements = soup.select('li.ipc-metadata-list-summary-item')[:25]"
   ]
  },
  {
   "cell_type": "markdown",
   "id": "2c432d70-5037-418c-80c7-2b973738609a",
   "metadata": {},
   "source": [
    "______________________________________________________________________________"
   ]
  },
  {
   "cell_type": "markdown",
   "id": "037ea20e-4dab-44a5-9307-596e6efe551f",
   "metadata": {},
   "source": [
    "**<h2 style=\"color: #00008B;\">B. Define Data to Scrape :</h2>**\n",
    "\n",
    "<h3 style=\"color: #00008B;\">1. <code>movies</code> DataFrame</h3>\n",
    "<p>Create a table named <code>movies</code> to scrape data from IMDb's \"Top 250 Movies\" page.</p>\n",
    "\n",
    "<b style=\"color: #00008B;\">Basic Movie Information:</b>\n",
    "<ul style=\"color: #00008B;\">\n",
    "  <li>Title</li>\n",
    "  <li>Release Year</li>\n",
    "  <li>Rating</li>\n",
    "  <li>Director(s)</li>\n",
    "  <li>Genre(s)</li>\n",
    "</ul>\n",
    "\n",
    "<b style=\"color: #00008B;\">Additional Metadata:</b>\n",
    "<ul style=\"color: #00008B;\">\n",
    "  <li>Release Date</li>\n",
    "  <li>Country of Origin</li>\n",
    "  <li>Official Sites</li>\n",
    "  <li>Languages</li>\n",
    "  <li>Filming Locations</li>\n",
    "  <li>Production Companies</li>\n",
    "  <li>Budget</li>\n",
    "  <li>Gross Worldwide Revenue</li>\n",
    "</ul>\n",
    "\n",
    "<hr>\n",
    "\n",
    "<h3 style=\"color: #00008B;\">2. <code>full_cast_and_crew</code> DataFrame</h3>\n",
    "<p>For each movie, retrieve full information on the cast and \"Produced by\" members from the corresponding movie page on IMDb.</p>\n",
    "\n",
    "<b style=\"color: #00008B;\">Table Structure for Cast and Crew:</b>\n",
    "<ul style=\"color: #00008B;\">\n",
    "  <li><code>Movie_ID</code>: Unique identifier for each movie, used to link with the <code>movies</code> table</li>\n",
    "  <li><code>Name</code>: The name of each cast member or \"Produced by\" member</li>\n",
    "  <li><code>Role_Type</code>: Specifies the type of role (e.g., Director, Actor, Producer)</li>\n",
    "</ul>\n"
   ]
  },
  {
   "cell_type": "code",
   "execution_count": 7,
   "id": "312c6e21-7be7-492a-abda-e22c2f8fb3e6",
   "metadata": {
    "tags": []
   },
   "outputs": [
    {
     "name": "stdout",
     "output_type": "stream",
     "text": [
      "Loading the list of top 250 movies...\n"
     ]
    },
    {
     "name": "stderr",
     "output_type": "stream",
     "text": [
      "100%|██████████| 25/25 [02:24<00:00,  5.78s/it]\n"
     ]
    }
   ],
   "source": [
    "print(\"Loading the list of top 250 movies...\")\n",
    "all_data = []\n",
    "cast_crew_data = []\n",
    "\n",
    "for movie in tqdm(movie_elements):  \n",
    "    title_tag = movie.select_one('h3.ipc-title__text')\n",
    "    title = title_tag.text.split('. ')[1] if title_tag else \"N/A\"\n",
    "    \n",
    "    year_tag = movie.select_one('span.sc-14dd939d-6') or movie.select_one('span.cli-title-metadata-item')\n",
    "    year = year_tag.get_text(strip=True) if year_tag else \"N/A\"\n",
    "    \n",
    "    rating_tag = movie.select_one('span.ipc-rating-star--imdb')\n",
    "    rating = rating_tag.text.split()[0] if rating_tag else \"N/A\"\n",
    "    \n",
    "    link_tag = movie.select_one('a.ipc-title-link-wrapper')\n",
    "    movie_link = BASE_URL + link_tag['href'] if link_tag else BASE_URL\n",
    "    \n",
    "    movie_id = movie_link.split('/')[-2]\n",
    "    \n",
    "#_____________________________________________________________________________\n",
    "                        \n",
    "    additional_metadata=[]\n",
    "    budget_tag = soup.find('li', {'data-testid': 'title-boxoffice-budget'})\n",
    "    if budget_tag:\n",
    "        raw_budget = budget_tag.get_text(strip=True)\n",
    "        match = re.search(r'\\$[\\d,]+', raw_budget)\n",
    "        if match:\n",
    "            budget = match.group(0)\n",
    "        else:\n",
    "            budget = \"N/A\"\n",
    "    else:\n",
    "        budget = \"N/A\"\n",
    "    #_____________________________________\n",
    "\n",
    "    gross_revenue_tag = soup.find('li', {'data-testid': 'title-boxoffice-cumulativeworldwidegross'})\n",
    "    if gross_revenue_tag:\n",
    "        raw_gross_revenue = gross_revenue_tag.get_text(strip=True)\n",
    "        match = re.search(r'\\$[\\d,]+', raw_gross_revenue)\n",
    "        if match:\n",
    "            gross_revenue = match.group(0)\n",
    "        else:\n",
    "            gross_revenue = \"N/A\"\n",
    "    else:\n",
    "        gross_revenue = \"N/A\"\n",
    "    #_____________________________________\n",
    "\n",
    "    official_sites_tag = soup.find('li', {'data-testid': 'details-officialsites'})\n",
    "    official_sites = official_sites_tag.get_text(strip=True) if official_sites_tag else \"N/A\"\n",
    "    #_____________________________________\n",
    "\n",
    "    release_date_tag = soup.find('a', {'title': 'See more release dates'})\n",
    "    release_date = release_date_tag.get_text(strip=True) if release_date_tag else \"N/A\"\n",
    "\n",
    "    text = soup.get_text()\n",
    "    release_date_match = re.search(r'\\b\\w+\\s\\d{1,2},\\s\\d{4}\\b', text)\n",
    "    if release_date_match:\n",
    "        release_date = release_date_match.group(0)\n",
    "        release_date = re.sub(r'^date', '', release_date) \n",
    "    else:\n",
    "        release_date = \"N/A\"\n",
    "    #_____________________________________\n",
    "\n",
    "    country_tag = soup.find('li', {'data-testid': 'title-details-origin'})\n",
    "    if country_tag:\n",
    "        country_links = country_tag.find_all('a')\n",
    "        countries = [link.get_text(strip=True).replace(u'\\xa0', ' ') for link in country_links]\n",
    "        country_of_origin = ', '.join(countries) if countries else 'N/A'\n",
    "    else:\n",
    "        country_of_origin = 'N/A'  \n",
    "    #_____________________________________\n",
    "\n",
    "    genres_tag = soup.find_all('span', {'class': 'ipc-chip__text'})\n",
    "    if genres_tag:\n",
    "        genres = [genre.get_text(strip=True) for genre in genres_tag[:-1]]  \n",
    "    else:\n",
    "        genres ='N/A'\n",
    "    #_____________________________________\n",
    "\n",
    "    language_section = soup.find('li', {'data-testid': 'title-details-languages'})\n",
    "    if language_section:\n",
    "        languages = [lang.get_text(strip=True) for lang in language_section.find_all('a')]\n",
    "    else:\n",
    "        languages = \"N/A\"\n",
    "    #_____________________________________\n",
    "\n",
    "    filming_location_tag = soup.find('li', {'data-testid': 'title-details-filminglocations'})\n",
    "    if filming_location_tag:\n",
    "        filming_location_text = filming_location_tag.get_text(strip=True)\n",
    "        filming_location_text = filming_location_text.replace(u'\\xa0', ' ').strip()\n",
    "        filming_location = filming_location_text.replace('Filming locations', '', 1).strip()\n",
    "        filming_location = filming_location if filming_location else 'N/A'\n",
    "    else:\n",
    "        filming_location = 'N/A' \n",
    "    #_____________________________________\n",
    "    production_companies_tag = soup.find('a', {'href': re.compile(r'/company/')})\n",
    "    if production_companies_tag:\n",
    "        production_companies = production_companies_tag.get_text(strip=True).replace('\\u00A0', ' ') if production_companies_tag else \"N/A\"\n",
    "    else:\n",
    "        production_companies = 'N/A'\n",
    "#_____________________________________________________________________________\n",
    "    \n",
    "    all_data.append({\n",
    "                'Movie_ID': movie_id,\n",
    "                'Title': title,\n",
    "                'Year': year,\n",
    "                'Rating': rating,\n",
    "                'Link': movie_link,\n",
    "                'Budget' : budget,\n",
    "                'gross_revenue' : gross_revenue,\n",
    "                'official_sites' : official_sites,\n",
    "                'release_date' :release_date,\n",
    "                'languages' :languages,\n",
    "                'genres':genres,\n",
    "                'production_companies':production_companies,\n",
    "                'filming_location': filming_location,\n",
    "                'country_of_origin':country_of_origin\n",
    "            }) \n",
    "# _____________________________________________________________________________\n",
    "\n",
    "    response = requests.get(movie_link, headers=HEADERS)\n",
    "    soup = BeautifulSoup(response.text, 'html.parser')\n",
    "        \n",
    "#_____________________________________________________________________________\n",
    "\n",
    "    cast_section = soup.find('section', {'data-testid': 'title-cast'}) \n",
    "    if cast_section:\n",
    "        cast_items = cast_section.find_all('div', {'data-testid': 'title-cast-item'}) \n",
    "        for item in cast_items:\n",
    "            actor = item.find('a', {'data-testid': 'title-cast-item__actor'})\n",
    "            character = item.find('a', {'data-testid': 'cast-item-characters-link'}) or \\\n",
    "                        item.find('span', {'data-testid': 'cast-item-characters-link'})\n",
    "                \n",
    "            if actor:\n",
    "                cast_crew_data.append({\n",
    "                    'Movie_ID': movie_id,\n",
    "                    'Name': actor.get_text(strip=True),\n",
    "                    'Role_Type': 'Actor',\n",
    "                    'Character_Position': character.get_text(strip=True) if character else 'N/A'\n",
    "                })\n",
    "    \n",
    "#_____________________________________________________________________________\n",
    "\n",
    "    directors_section = soup.find('meta', {'name': 'description'})  \n",
    "    if directors_section:\n",
    "        description = directors_section.get('content', '') \n",
    "        directors_match = re.search(r'Directed by (.+?)\\. With', description)\n",
    "        if directors_match:\n",
    "            directors = directors_match.group(1) \n",
    "            cast_crew_data.append({\n",
    "                'Movie_ID': movie_id,\n",
    "                'Name': directors,\n",
    "                'Role_Type': 'Director',\n",
    "                'Character_Position': 'N/A'\n",
    "            })\n",
    "#_____________________________________________________________________________\n",
    "  \n",
    "    time.sleep(3)\n",
    "    "
   ]
  },
  {
   "cell_type": "code",
   "execution_count": 8,
   "id": "f9ac7084-33e3-4985-ae67-496ec690d866",
   "metadata": {
    "tags": []
   },
   "outputs": [
    {
     "name": "stdout",
     "output_type": "stream",
     "text": [
      "All data has been successfully saved to the file imdb_complete_data.csv\n",
      "\n",
      "Show sample data:\n"
     ]
    }
   ],
   "source": [
    "df = pd.DataFrame(all_data)\n",
    "cast_crew_data = pd.DataFrame(cast_crew_data)\n",
    "df.to_csv('imdb_complete_data.csv', index=False, encoding='utf-8-sig')\n",
    "cast_crew_data.to_csv('cast_crew_data.csv', index=False, encoding='utf-8-sig')\n",
    "\n",
    "print(\"All data has been successfully saved to the file imdb_complete_data.csv\")\n",
    "print(\"\\nShow sample data:\")"
   ]
  },
  {
   "cell_type": "code",
   "execution_count": 9,
   "id": "5e038394-2cb6-4f00-97fd-91b1dcbc09e8",
   "metadata": {
    "tags": []
   },
   "outputs": [
    {
     "data": {
      "text/html": [
       "<div>\n",
       "<style scoped>\n",
       "    .dataframe tbody tr th:only-of-type {\n",
       "        vertical-align: middle;\n",
       "    }\n",
       "\n",
       "    .dataframe tbody tr th {\n",
       "        vertical-align: top;\n",
       "    }\n",
       "\n",
       "    .dataframe thead th {\n",
       "        text-align: right;\n",
       "    }\n",
       "</style>\n",
       "<table border=\"1\" class=\"dataframe\">\n",
       "  <thead>\n",
       "    <tr style=\"text-align: right;\">\n",
       "      <th></th>\n",
       "      <th>Movie_ID</th>\n",
       "      <th>Title</th>\n",
       "      <th>Year</th>\n",
       "      <th>Rating</th>\n",
       "      <th>Link</th>\n",
       "      <th>Budget</th>\n",
       "      <th>gross_revenue</th>\n",
       "      <th>official_sites</th>\n",
       "      <th>release_date</th>\n",
       "      <th>languages</th>\n",
       "      <th>genres</th>\n",
       "      <th>production_companies</th>\n",
       "      <th>filming_location</th>\n",
       "      <th>country_of_origin</th>\n",
       "    </tr>\n",
       "  </thead>\n",
       "  <tbody>\n",
       "    <tr>\n",
       "      <th>0</th>\n",
       "      <td>tt0111161</td>\n",
       "      <td>The Shawshank Redemption</td>\n",
       "      <td>1994</td>\n",
       "      <td>9.3</td>\n",
       "      <td>https://www.imdb.com/title/tt0111161/?ref_=cht...</td>\n",
       "      <td>$3,300,000</td>\n",
       "      <td>$30,681,033</td>\n",
       "      <td>Official sitesOfficial FacebookOfficial Site</td>\n",
       "      <td>February 13, 2004</td>\n",
       "      <td>[Portuguese]</td>\n",
       "      <td>[Caper, Coming-of-Age, Gangster, Crime, Drama]</td>\n",
       "      <td>O2 Filmes</td>\n",
       "      <td>Rio de Janeiro, Rio de Janeiro, Brazil</td>\n",
       "      <td>Brazil, France</td>\n",
       "    </tr>\n",
       "    <tr>\n",
       "      <th>1</th>\n",
       "      <td>tt0068646</td>\n",
       "      <td>The Godfather</td>\n",
       "      <td>1972</td>\n",
       "      <td>9.2</td>\n",
       "      <td>https://www.imdb.com/title/tt0068646/?ref_=cht...</td>\n",
       "      <td>$25,000,000</td>\n",
       "      <td>$29,332,133</td>\n",
       "      <td>Official sitesOfficial FacebookWarner Bros. (U...</td>\n",
       "      <td>October 14, 1994</td>\n",
       "      <td>[English]</td>\n",
       "      <td>[Epic, Period Drama, Prison Drama, Drama]</td>\n",
       "      <td>Castle Rock Entertainment</td>\n",
       "      <td>Mansfield Reformatory - 100 Reformatory Road, ...</td>\n",
       "      <td>United States</td>\n",
       "    </tr>\n",
       "    <tr>\n",
       "      <th>2</th>\n",
       "      <td>tt0468569</td>\n",
       "      <td>The Dark Knight</td>\n",
       "      <td>2008</td>\n",
       "      <td>9.0</td>\n",
       "      <td>https://www.imdb.com/title/tt0468569/?ref_=cht...</td>\n",
       "      <td>$6,000,000</td>\n",
       "      <td>$250,342,198</td>\n",
       "      <td>Official sitesFacebookInstagram</td>\n",
       "      <td>March 24, 1972</td>\n",
       "      <td>[English, Italian, Latin]</td>\n",
       "      <td>[Epic, Gangster, Tragedy, Crime, Drama]</td>\n",
       "      <td>Paramount Pictures</td>\n",
       "      <td>Forza d'Agrò, Messina, Sicily, Italy(as Corleo...</td>\n",
       "      <td>United States</td>\n",
       "    </tr>\n",
       "    <tr>\n",
       "      <th>3</th>\n",
       "      <td>tt0071562</td>\n",
       "      <td>The Godfather Part II</td>\n",
       "      <td>1974</td>\n",
       "      <td>9.0</td>\n",
       "      <td>https://www.imdb.com/title/tt0071562/?ref_=cht...</td>\n",
       "      <td>$185,000,000</td>\n",
       "      <td>$1,009,057,329</td>\n",
       "      <td>Official sitesFacebookOfficial Site</td>\n",
       "      <td>July 18, 2008</td>\n",
       "      <td>[English, Mandarin]</td>\n",
       "      <td>[Action Epic, Epic, Superhero, Tragedy, Action...</td>\n",
       "      <td>Warner Bros.</td>\n",
       "      <td>Chicago, Illinois, USA</td>\n",
       "      <td>United States, United Kingdom</td>\n",
       "    </tr>\n",
       "    <tr>\n",
       "      <th>4</th>\n",
       "      <td>tt0050083</td>\n",
       "      <td>12 Angry Men</td>\n",
       "      <td>1957</td>\n",
       "      <td>9.0</td>\n",
       "      <td>https://www.imdb.com/title/tt0050083/?ref_=cht...</td>\n",
       "      <td>$13,000,000</td>\n",
       "      <td>$47,980,865</td>\n",
       "      <td>Official sitesFacebookInstagram</td>\n",
       "      <td>December 18, 1974</td>\n",
       "      <td>[English, Italian, Spanish, Latin, Sicilian]</td>\n",
       "      <td>[Epic, Gangster, Tragedy, Crime, Drama]</td>\n",
       "      <td>Paramount Pictures</td>\n",
       "      <td>Kaiser Estate - 4000 W Lake Blvd, Homewood, La...</td>\n",
       "      <td>United States</td>\n",
       "    </tr>\n",
       "  </tbody>\n",
       "</table>\n",
       "</div>"
      ],
      "text/plain": [
       "    Movie_ID                     Title  Year Rating  \\\n",
       "0  tt0111161  The Shawshank Redemption  1994    9.3   \n",
       "1  tt0068646             The Godfather  1972    9.2   \n",
       "2  tt0468569           The Dark Knight  2008    9.0   \n",
       "3  tt0071562     The Godfather Part II  1974    9.0   \n",
       "4  tt0050083              12 Angry Men  1957    9.0   \n",
       "\n",
       "                                                Link        Budget  \\\n",
       "0  https://www.imdb.com/title/tt0111161/?ref_=cht...    $3,300,000   \n",
       "1  https://www.imdb.com/title/tt0068646/?ref_=cht...   $25,000,000   \n",
       "2  https://www.imdb.com/title/tt0468569/?ref_=cht...    $6,000,000   \n",
       "3  https://www.imdb.com/title/tt0071562/?ref_=cht...  $185,000,000   \n",
       "4  https://www.imdb.com/title/tt0050083/?ref_=cht...   $13,000,000   \n",
       "\n",
       "    gross_revenue                                     official_sites  \\\n",
       "0     $30,681,033       Official sitesOfficial FacebookOfficial Site   \n",
       "1     $29,332,133  Official sitesOfficial FacebookWarner Bros. (U...   \n",
       "2    $250,342,198                    Official sitesFacebookInstagram   \n",
       "3  $1,009,057,329                Official sitesFacebookOfficial Site   \n",
       "4     $47,980,865                    Official sitesFacebookInstagram   \n",
       "\n",
       "        release_date                                     languages  \\\n",
       "0  February 13, 2004                                  [Portuguese]   \n",
       "1   October 14, 1994                                     [English]   \n",
       "2     March 24, 1972                     [English, Italian, Latin]   \n",
       "3      July 18, 2008                           [English, Mandarin]   \n",
       "4  December 18, 1974  [English, Italian, Spanish, Latin, Sicilian]   \n",
       "\n",
       "                                              genres  \\\n",
       "0     [Caper, Coming-of-Age, Gangster, Crime, Drama]   \n",
       "1          [Epic, Period Drama, Prison Drama, Drama]   \n",
       "2            [Epic, Gangster, Tragedy, Crime, Drama]   \n",
       "3  [Action Epic, Epic, Superhero, Tragedy, Action...   \n",
       "4            [Epic, Gangster, Tragedy, Crime, Drama]   \n",
       "\n",
       "        production_companies  \\\n",
       "0                  O2 Filmes   \n",
       "1  Castle Rock Entertainment   \n",
       "2         Paramount Pictures   \n",
       "3               Warner Bros.   \n",
       "4         Paramount Pictures   \n",
       "\n",
       "                                    filming_location  \\\n",
       "0             Rio de Janeiro, Rio de Janeiro, Brazil   \n",
       "1  Mansfield Reformatory - 100 Reformatory Road, ...   \n",
       "2  Forza d'Agrò, Messina, Sicily, Italy(as Corleo...   \n",
       "3                             Chicago, Illinois, USA   \n",
       "4  Kaiser Estate - 4000 W Lake Blvd, Homewood, La...   \n",
       "\n",
       "               country_of_origin  \n",
       "0                 Brazil, France  \n",
       "1                  United States  \n",
       "2                  United States  \n",
       "3  United States, United Kingdom  \n",
       "4                  United States  "
      ]
     },
     "execution_count": 9,
     "metadata": {},
     "output_type": "execute_result"
    }
   ],
   "source": [
    "df.head()"
   ]
  },
  {
   "cell_type": "code",
   "execution_count": 10,
   "id": "a583ec22-e591-45fc-b474-4c2b7a36862c",
   "metadata": {
    "tags": []
   },
   "outputs": [
    {
     "data": {
      "text/html": [
       "<div>\n",
       "<style scoped>\n",
       "    .dataframe tbody tr th:only-of-type {\n",
       "        vertical-align: middle;\n",
       "    }\n",
       "\n",
       "    .dataframe tbody tr th {\n",
       "        vertical-align: top;\n",
       "    }\n",
       "\n",
       "    .dataframe thead th {\n",
       "        text-align: right;\n",
       "    }\n",
       "</style>\n",
       "<table border=\"1\" class=\"dataframe\">\n",
       "  <thead>\n",
       "    <tr style=\"text-align: right;\">\n",
       "      <th></th>\n",
       "      <th>Movie_ID</th>\n",
       "      <th>Name</th>\n",
       "      <th>Role_Type</th>\n",
       "      <th>Character_Position</th>\n",
       "    </tr>\n",
       "  </thead>\n",
       "  <tbody>\n",
       "    <tr>\n",
       "      <th>0</th>\n",
       "      <td>tt0111161</td>\n",
       "      <td>Tim Robbins</td>\n",
       "      <td>Actor</td>\n",
       "      <td>Andy Dufresne</td>\n",
       "    </tr>\n",
       "    <tr>\n",
       "      <th>1</th>\n",
       "      <td>tt0111161</td>\n",
       "      <td>Morgan Freeman</td>\n",
       "      <td>Actor</td>\n",
       "      <td>Ellis Boyd 'Red' Redding</td>\n",
       "    </tr>\n",
       "    <tr>\n",
       "      <th>2</th>\n",
       "      <td>tt0111161</td>\n",
       "      <td>Bob Gunton</td>\n",
       "      <td>Actor</td>\n",
       "      <td>Warden Norton</td>\n",
       "    </tr>\n",
       "    <tr>\n",
       "      <th>3</th>\n",
       "      <td>tt0111161</td>\n",
       "      <td>William Sadler</td>\n",
       "      <td>Actor</td>\n",
       "      <td>Heywood</td>\n",
       "    </tr>\n",
       "    <tr>\n",
       "      <th>4</th>\n",
       "      <td>tt0111161</td>\n",
       "      <td>Clancy Brown</td>\n",
       "      <td>Actor</td>\n",
       "      <td>Captain Hadley</td>\n",
       "    </tr>\n",
       "  </tbody>\n",
       "</table>\n",
       "</div>"
      ],
      "text/plain": [
       "    Movie_ID            Name Role_Type        Character_Position\n",
       "0  tt0111161     Tim Robbins     Actor             Andy Dufresne\n",
       "1  tt0111161  Morgan Freeman     Actor  Ellis Boyd 'Red' Redding\n",
       "2  tt0111161      Bob Gunton     Actor             Warden Norton\n",
       "3  tt0111161  William Sadler     Actor                   Heywood\n",
       "4  tt0111161    Clancy Brown     Actor            Captain Hadley"
      ]
     },
     "execution_count": 10,
     "metadata": {},
     "output_type": "execute_result"
    }
   ],
   "source": [
    "cast_crew_data.head()"
   ]
  },
  {
   "cell_type": "markdown",
   "id": "85306b3b-11df-4bba-a89f-812a4232d064",
   "metadata": {},
   "source": [
    " # **<span style=\"color:#1E90FF\">Task 2 - Data Preprocessing and Transformation (Scraping) :</span>**"
   ]
  },
  {
   "cell_type": "markdown",
   "id": "ac960b6f-3670-451c-9cb1-969725f6e699",
   "metadata": {},
   "source": [
    "**<h2 style=\"color: #00008B;\">C. Clean the Scraped Data :</h2>**\n",
    "\n",
    "<h3 style=\"color: #00008B;\">1. Perform at Least 3 Cleaning Tasks:</h3>\n",
    "<ul style=\"color: #00008B;\">\n",
    "  <li>Handle missing values</li>\n",
    "  <li>Remove duplicate entries</li>\n",
    "  <li>Correct inconsistencies in formatting (e.g., date formats, case sensitivity)</li>\n",
    "</ul>\n"
   ]
  },
  {
   "cell_type": "code",
   "execution_count": 11,
   "id": "91c9470b-5d12-4ab0-8536-94134a9e5fc7",
   "metadata": {
    "tags": []
   },
   "outputs": [
    {
     "name": "stdout",
     "output_type": "stream",
     "text": [
      "Data cleaning process has started\n"
     ]
    }
   ],
   "source": [
    "print(\"Data cleaning process has started\")\n",
    "df = pd.read_csv('imdb_complete_data.csv')\n",
    "cast_crew_data = pd.read_csv('cast_crew_data.csv')"
   ]
  },
  {
   "cell_type": "code",
   "execution_count": 12,
   "id": "d7768e4d-1672-4f67-8ec1-c2da39e9d111",
   "metadata": {
    "tags": []
   },
   "outputs": [
    {
     "name": "stdout",
     "output_type": "stream",
     "text": [
      "<class 'pandas.core.frame.DataFrame'>\n",
      "RangeIndex: 25 entries, 0 to 24\n",
      "Data columns (total 14 columns):\n",
      " #   Column                Non-Null Count  Dtype  \n",
      "---  ------                --------------  -----  \n",
      " 0   Movie_ID              25 non-null     object \n",
      " 1   Title                 25 non-null     object \n",
      " 2   Year                  25 non-null     int64  \n",
      " 3   Rating                25 non-null     float64\n",
      " 4   Link                  25 non-null     object \n",
      " 5   Budget                24 non-null     object \n",
      " 6   gross_revenue         25 non-null     object \n",
      " 7   official_sites        21 non-null     object \n",
      " 8   release_date          25 non-null     object \n",
      " 9   languages             25 non-null     object \n",
      " 10  genres                25 non-null     object \n",
      " 11  production_companies  25 non-null     object \n",
      " 12  filming_location      25 non-null     object \n",
      " 13  country_of_origin     25 non-null     object \n",
      "dtypes: float64(1), int64(1), object(12)\n",
      "memory usage: 2.9+ KB\n"
     ]
    }
   ],
   "source": [
    "df.info()"
   ]
  },
  {
   "cell_type": "code",
   "execution_count": 13,
   "id": "419061ce-7874-46ba-b5ea-4fdd80321100",
   "metadata": {
    "tags": []
   },
   "outputs": [
    {
     "name": "stdout",
     "output_type": "stream",
     "text": [
      "<class 'pandas.core.frame.DataFrame'>\n",
      "RangeIndex: 475 entries, 0 to 474\n",
      "Data columns (total 4 columns):\n",
      " #   Column              Non-Null Count  Dtype \n",
      "---  ------              --------------  ----- \n",
      " 0   Movie_ID            475 non-null    object\n",
      " 1   Name                475 non-null    object\n",
      " 2   Role_Type           475 non-null    object\n",
      " 3   Character_Position  450 non-null    object\n",
      "dtypes: object(4)\n",
      "memory usage: 15.0+ KB\n"
     ]
    }
   ],
   "source": [
    "cast_crew_data.info()"
   ]
  },
  {
   "cell_type": "code",
   "execution_count": 14,
   "id": "055ffe77-5b4b-4eec-a2c1-6f54aa7ed25d",
   "metadata": {
    "tags": []
   },
   "outputs": [
    {
     "data": {
      "text/plain": [
       "Movie_ID                0\n",
       "Title                   0\n",
       "Year                    0\n",
       "Rating                  0\n",
       "Link                    0\n",
       "Budget                  1\n",
       "gross_revenue           0\n",
       "official_sites          4\n",
       "release_date            0\n",
       "languages               0\n",
       "genres                  0\n",
       "production_companies    0\n",
       "filming_location        0\n",
       "country_of_origin       0\n",
       "dtype: int64"
      ]
     },
     "execution_count": 14,
     "metadata": {},
     "output_type": "execute_result"
    }
   ],
   "source": [
    "df.isnull().sum()"
   ]
  },
  {
   "cell_type": "code",
   "execution_count": 15,
   "id": "bc791fe8-39f4-4ccb-82cc-4108d9d67404",
   "metadata": {
    "tags": []
   },
   "outputs": [
    {
     "data": {
      "text/plain": [
       "Movie_ID               0\n",
       "Name                   0\n",
       "Role_Type              0\n",
       "Character_Position    25\n",
       "dtype: int64"
      ]
     },
     "execution_count": 15,
     "metadata": {},
     "output_type": "execute_result"
    }
   ],
   "source": [
    "cast_crew_data.isnull().sum()"
   ]
  },
  {
   "cell_type": "code",
   "execution_count": 16,
   "id": "75096fc4-1756-4680-9599-f708f519112f",
   "metadata": {
    "tags": []
   },
   "outputs": [],
   "source": [
    "df['Budget'] = df['Budget'].replace('[\\$,]', '', regex=True) \n",
    "df['Budget'] = pd.to_numeric(df['Budget'], errors='coerce') "
   ]
  },
  {
   "cell_type": "code",
   "execution_count": 17,
   "id": "3d4731bd-2a25-4815-acd1-f603a7faa047",
   "metadata": {
    "tags": []
   },
   "outputs": [],
   "source": [
    "df['Budget'] = df['Budget'].fillna(df['Budget'].mean())"
   ]
  },
  {
   "cell_type": "code",
   "execution_count": 18,
   "id": "beac09a8-c742-4220-addf-090357ac4fbd",
   "metadata": {
    "tags": []
   },
   "outputs": [],
   "source": [
    "df['gross_revenue'] = df['gross_revenue'].replace('[\\$,]', '', regex=True) \n",
    "df['gross_revenue'] = pd.to_numeric(df['gross_revenue'], errors='coerce')  "
   ]
  },
  {
   "cell_type": "code",
   "execution_count": 19,
   "id": "c7a579b0-e353-43e7-bf01-0e4ab8d30c47",
   "metadata": {
    "tags": []
   },
   "outputs": [],
   "source": [
    "df['gross_revenue'] = df['gross_revenue'].fillna(df['gross_revenue'].mean())"
   ]
  },
  {
   "cell_type": "code",
   "execution_count": 20,
   "id": "08e49cdd-33ff-424f-90d4-5ded82313342",
   "metadata": {
    "tags": []
   },
   "outputs": [],
   "source": [
    "df.fillna({\n",
    "    'official_sites': 'Not Available',\n",
    "    'release_date':'Not Available',\n",
    "    'production_companies':'Not Available',\n",
    "    'filming_location':'Not Available',\n",
    "    'country_of_origin':'Not Available'\n",
    "}, inplace=True)"
   ]
  },
  {
   "cell_type": "code",
   "execution_count": 21,
   "id": "b3a1d422-9b26-4af8-9728-c659b0690fa0",
   "metadata": {
    "tags": []
   },
   "outputs": [],
   "source": [
    "cast_crew_data.fillna({\n",
    "    'Character_Position': 'Not Available',\n",
    "}, inplace=True)"
   ]
  },
  {
   "cell_type": "code",
   "execution_count": 22,
   "id": "20ad26f4-9fc4-43ed-8e27-1ff914e823c9",
   "metadata": {
    "tags": []
   },
   "outputs": [
    {
     "data": {
      "text/plain": [
       "Movie_ID                0\n",
       "Title                   0\n",
       "Year                    0\n",
       "Rating                  0\n",
       "Link                    0\n",
       "Budget                  0\n",
       "gross_revenue           0\n",
       "official_sites          0\n",
       "release_date            0\n",
       "languages               0\n",
       "genres                  0\n",
       "production_companies    0\n",
       "filming_location        0\n",
       "country_of_origin       0\n",
       "dtype: int64"
      ]
     },
     "execution_count": 22,
     "metadata": {},
     "output_type": "execute_result"
    }
   ],
   "source": [
    "df.isnull().sum()"
   ]
  },
  {
   "cell_type": "code",
   "execution_count": 23,
   "id": "66b42be8-457d-4a34-b9bc-95b5923918bc",
   "metadata": {
    "tags": []
   },
   "outputs": [
    {
     "data": {
      "text/plain": [
       "Movie_ID              0\n",
       "Name                  0\n",
       "Role_Type             0\n",
       "Character_Position    0\n",
       "dtype: int64"
      ]
     },
     "execution_count": 23,
     "metadata": {},
     "output_type": "execute_result"
    }
   ],
   "source": [
    "cast_crew_data.isnull().sum()"
   ]
  },
  {
   "cell_type": "code",
   "execution_count": 24,
   "id": "a162d673-19a3-4116-b9ac-c3d661201f0b",
   "metadata": {
    "tags": []
   },
   "outputs": [
    {
     "data": {
      "text/plain": [
       "0"
      ]
     },
     "execution_count": 24,
     "metadata": {},
     "output_type": "execute_result"
    }
   ],
   "source": [
    "df.duplicated().sum()"
   ]
  },
  {
   "cell_type": "code",
   "execution_count": 25,
   "id": "137e3988-3d5d-4ddc-b7d2-81c5cbae83c4",
   "metadata": {
    "tags": []
   },
   "outputs": [
    {
     "data": {
      "text/plain": [
       "0"
      ]
     },
     "execution_count": 25,
     "metadata": {},
     "output_type": "execute_result"
    }
   ],
   "source": [
    "cast_crew_data.duplicated().sum() "
   ]
  },
  {
   "cell_type": "markdown",
   "id": "91c1744f-f34e-4bf5-87d0-2a9688c101e2",
   "metadata": {},
   "source": [
    "**<h2 style=\"color: #00008B;\">D. Transform the Data :</h2>**\n",
    "\n",
    "<h3 style=\"color: #00008B;\">1. Perform at Least 3 Transformation Tasks:</h3>\n",
    "<ul style=\"color: #00008B;\">\n",
    "  <li>Normalize, standardize, or encode categorical variables as needed</li>\n",
    "  <li>Convert columns into formats suitable for MySQL (e.g., format date columns, encode text values)</li>\n",
    "  <li>Integrate the <code>full_cast_and_crew</code> table with the main <code>movies</code> table using <code>Movie_ID</code> as a foreign key</li>\n",
    "</ul>"
   ]
  },
  {
   "cell_type": "code",
   "execution_count": 27,
   "id": "04d53e8f-1272-484e-84d6-62513425a607",
   "metadata": {},
   "outputs": [],
   "source": [
    "categorical_cols = df.select_dtypes(include=['object']).columns\n",
    "for col in categorical_cols:\n",
    "    df[col] = df[col].map(lambda x: str(x).strip().lower() if pd.notnull(x) else x)"
   ]
  },
  {
   "cell_type": "code",
   "execution_count": 28,
   "id": "2efff41e-573c-486a-bf9c-f4787c1e7036",
   "metadata": {},
   "outputs": [],
   "source": [
    "categorical_cols = cast_crew_data.select_dtypes(include=['object']).columns\n",
    "cast_crew_data[categorical_cols] = cast_crew_data[categorical_cols].apply(lambda col: col.str.lower() if col.notnull().any() else col)"
   ]
  },
  {
   "cell_type": "code",
   "execution_count": 29,
   "id": "cdd523de-037a-4983-a59a-46fbe4ff47be",
   "metadata": {},
   "outputs": [
    {
     "data": {
      "text/html": [
       "<div>\n",
       "<style scoped>\n",
       "    .dataframe tbody tr th:only-of-type {\n",
       "        vertical-align: middle;\n",
       "    }\n",
       "\n",
       "    .dataframe tbody tr th {\n",
       "        vertical-align: top;\n",
       "    }\n",
       "\n",
       "    .dataframe thead th {\n",
       "        text-align: right;\n",
       "    }\n",
       "</style>\n",
       "<table border=\"1\" class=\"dataframe\">\n",
       "  <thead>\n",
       "    <tr style=\"text-align: right;\">\n",
       "      <th></th>\n",
       "      <th>Movie_ID</th>\n",
       "      <th>Title</th>\n",
       "      <th>Year</th>\n",
       "      <th>Rating</th>\n",
       "      <th>Link</th>\n",
       "      <th>Budget</th>\n",
       "      <th>gross_revenue</th>\n",
       "      <th>official_sites</th>\n",
       "      <th>release_date</th>\n",
       "      <th>languages</th>\n",
       "      <th>genres</th>\n",
       "      <th>production_companies</th>\n",
       "      <th>filming_location</th>\n",
       "      <th>country_of_origin</th>\n",
       "    </tr>\n",
       "  </thead>\n",
       "  <tbody>\n",
       "    <tr>\n",
       "      <th>0</th>\n",
       "      <td>tt0111161</td>\n",
       "      <td>the shawshank redemption</td>\n",
       "      <td>1994</td>\n",
       "      <td>9.3</td>\n",
       "      <td>https://www.imdb.com/title/tt0111161/?ref_=cht...</td>\n",
       "      <td>3300000.0</td>\n",
       "      <td>30681033</td>\n",
       "      <td>official sitesofficial facebookofficial site</td>\n",
       "      <td>february 13, 2004</td>\n",
       "      <td>['portuguese']</td>\n",
       "      <td>['caper', 'coming-of-age', 'gangster', 'crime'...</td>\n",
       "      <td>o2 filmes</td>\n",
       "      <td>rio de janeiro, rio de janeiro, brazil</td>\n",
       "      <td>brazil, france</td>\n",
       "    </tr>\n",
       "    <tr>\n",
       "      <th>1</th>\n",
       "      <td>tt0068646</td>\n",
       "      <td>the godfather</td>\n",
       "      <td>1972</td>\n",
       "      <td>9.2</td>\n",
       "      <td>https://www.imdb.com/title/tt0068646/?ref_=cht...</td>\n",
       "      <td>25000000.0</td>\n",
       "      <td>29332133</td>\n",
       "      <td>official sitesofficial facebookwarner bros. (u...</td>\n",
       "      <td>october 14, 1994</td>\n",
       "      <td>['english']</td>\n",
       "      <td>['epic', 'period drama', 'prison drama', 'drama']</td>\n",
       "      <td>castle rock entertainment</td>\n",
       "      <td>mansfield reformatory - 100 reformatory road, ...</td>\n",
       "      <td>united states</td>\n",
       "    </tr>\n",
       "    <tr>\n",
       "      <th>2</th>\n",
       "      <td>tt0468569</td>\n",
       "      <td>the dark knight</td>\n",
       "      <td>2008</td>\n",
       "      <td>9.0</td>\n",
       "      <td>https://www.imdb.com/title/tt0468569/?ref_=cht...</td>\n",
       "      <td>6000000.0</td>\n",
       "      <td>250342198</td>\n",
       "      <td>official sitesfacebookinstagram</td>\n",
       "      <td>march 24, 1972</td>\n",
       "      <td>['english', 'italian', 'latin']</td>\n",
       "      <td>['epic', 'gangster', 'tragedy', 'crime', 'drama']</td>\n",
       "      <td>paramount pictures</td>\n",
       "      <td>forza d'agrò, messina, sicily, italy(as corleo...</td>\n",
       "      <td>united states</td>\n",
       "    </tr>\n",
       "    <tr>\n",
       "      <th>3</th>\n",
       "      <td>tt0071562</td>\n",
       "      <td>the godfather part ii</td>\n",
       "      <td>1974</td>\n",
       "      <td>9.0</td>\n",
       "      <td>https://www.imdb.com/title/tt0071562/?ref_=cht...</td>\n",
       "      <td>185000000.0</td>\n",
       "      <td>1009057329</td>\n",
       "      <td>official sitesfacebookofficial site</td>\n",
       "      <td>july 18, 2008</td>\n",
       "      <td>['english', 'mandarin']</td>\n",
       "      <td>['action epic', 'epic', 'superhero', 'tragedy'...</td>\n",
       "      <td>warner bros.</td>\n",
       "      <td>chicago, illinois, usa</td>\n",
       "      <td>united states, united kingdom</td>\n",
       "    </tr>\n",
       "    <tr>\n",
       "      <th>4</th>\n",
       "      <td>tt0050083</td>\n",
       "      <td>12 angry men</td>\n",
       "      <td>1957</td>\n",
       "      <td>9.0</td>\n",
       "      <td>https://www.imdb.com/title/tt0050083/?ref_=cht...</td>\n",
       "      <td>13000000.0</td>\n",
       "      <td>47980865</td>\n",
       "      <td>official sitesfacebookinstagram</td>\n",
       "      <td>december 18, 1974</td>\n",
       "      <td>['english', 'italian', 'spanish', 'latin', 'si...</td>\n",
       "      <td>['epic', 'gangster', 'tragedy', 'crime', 'drama']</td>\n",
       "      <td>paramount pictures</td>\n",
       "      <td>kaiser estate - 4000 w lake blvd, homewood, la...</td>\n",
       "      <td>united states</td>\n",
       "    </tr>\n",
       "  </tbody>\n",
       "</table>\n",
       "</div>"
      ],
      "text/plain": [
       "    Movie_ID                     Title  Year  Rating  \\\n",
       "0  tt0111161  the shawshank redemption  1994     9.3   \n",
       "1  tt0068646             the godfather  1972     9.2   \n",
       "2  tt0468569           the dark knight  2008     9.0   \n",
       "3  tt0071562     the godfather part ii  1974     9.0   \n",
       "4  tt0050083              12 angry men  1957     9.0   \n",
       "\n",
       "                                                Link       Budget  \\\n",
       "0  https://www.imdb.com/title/tt0111161/?ref_=cht...    3300000.0   \n",
       "1  https://www.imdb.com/title/tt0068646/?ref_=cht...   25000000.0   \n",
       "2  https://www.imdb.com/title/tt0468569/?ref_=cht...    6000000.0   \n",
       "3  https://www.imdb.com/title/tt0071562/?ref_=cht...  185000000.0   \n",
       "4  https://www.imdb.com/title/tt0050083/?ref_=cht...   13000000.0   \n",
       "\n",
       "   gross_revenue                                     official_sites  \\\n",
       "0       30681033       official sitesofficial facebookofficial site   \n",
       "1       29332133  official sitesofficial facebookwarner bros. (u...   \n",
       "2      250342198                    official sitesfacebookinstagram   \n",
       "3     1009057329                official sitesfacebookofficial site   \n",
       "4       47980865                    official sitesfacebookinstagram   \n",
       "\n",
       "        release_date                                          languages  \\\n",
       "0  february 13, 2004                                     ['portuguese']   \n",
       "1   october 14, 1994                                        ['english']   \n",
       "2     march 24, 1972                    ['english', 'italian', 'latin']   \n",
       "3      july 18, 2008                            ['english', 'mandarin']   \n",
       "4  december 18, 1974  ['english', 'italian', 'spanish', 'latin', 'si...   \n",
       "\n",
       "                                              genres  \\\n",
       "0  ['caper', 'coming-of-age', 'gangster', 'crime'...   \n",
       "1  ['epic', 'period drama', 'prison drama', 'drama']   \n",
       "2  ['epic', 'gangster', 'tragedy', 'crime', 'drama']   \n",
       "3  ['action epic', 'epic', 'superhero', 'tragedy'...   \n",
       "4  ['epic', 'gangster', 'tragedy', 'crime', 'drama']   \n",
       "\n",
       "        production_companies  \\\n",
       "0                  o2 filmes   \n",
       "1  castle rock entertainment   \n",
       "2         paramount pictures   \n",
       "3               warner bros.   \n",
       "4         paramount pictures   \n",
       "\n",
       "                                    filming_location  \\\n",
       "0             rio de janeiro, rio de janeiro, brazil   \n",
       "1  mansfield reformatory - 100 reformatory road, ...   \n",
       "2  forza d'agrò, messina, sicily, italy(as corleo...   \n",
       "3                             chicago, illinois, usa   \n",
       "4  kaiser estate - 4000 w lake blvd, homewood, la...   \n",
       "\n",
       "               country_of_origin  \n",
       "0                 brazil, france  \n",
       "1                  united states  \n",
       "2                  united states  \n",
       "3  united states, united kingdom  \n",
       "4                  united states  "
      ]
     },
     "execution_count": 29,
     "metadata": {},
     "output_type": "execute_result"
    }
   ],
   "source": [
    "df.head()"
   ]
  },
  {
   "cell_type": "code",
   "execution_count": 30,
   "id": "0f700707-4483-42fd-bd0d-35a6487b36e0",
   "metadata": {
    "tags": []
   },
   "outputs": [
    {
     "data": {
      "text/html": [
       "<div>\n",
       "<style scoped>\n",
       "    .dataframe tbody tr th:only-of-type {\n",
       "        vertical-align: middle;\n",
       "    }\n",
       "\n",
       "    .dataframe tbody tr th {\n",
       "        vertical-align: top;\n",
       "    }\n",
       "\n",
       "    .dataframe thead th {\n",
       "        text-align: right;\n",
       "    }\n",
       "</style>\n",
       "<table border=\"1\" class=\"dataframe\">\n",
       "  <thead>\n",
       "    <tr style=\"text-align: right;\">\n",
       "      <th></th>\n",
       "      <th>Movie_ID</th>\n",
       "      <th>Name</th>\n",
       "      <th>Role_Type</th>\n",
       "      <th>Character_Position</th>\n",
       "    </tr>\n",
       "  </thead>\n",
       "  <tbody>\n",
       "    <tr>\n",
       "      <th>0</th>\n",
       "      <td>tt0111161</td>\n",
       "      <td>tim robbins</td>\n",
       "      <td>actor</td>\n",
       "      <td>andy dufresne</td>\n",
       "    </tr>\n",
       "    <tr>\n",
       "      <th>1</th>\n",
       "      <td>tt0111161</td>\n",
       "      <td>morgan freeman</td>\n",
       "      <td>actor</td>\n",
       "      <td>ellis boyd 'red' redding</td>\n",
       "    </tr>\n",
       "    <tr>\n",
       "      <th>2</th>\n",
       "      <td>tt0111161</td>\n",
       "      <td>bob gunton</td>\n",
       "      <td>actor</td>\n",
       "      <td>warden norton</td>\n",
       "    </tr>\n",
       "    <tr>\n",
       "      <th>3</th>\n",
       "      <td>tt0111161</td>\n",
       "      <td>william sadler</td>\n",
       "      <td>actor</td>\n",
       "      <td>heywood</td>\n",
       "    </tr>\n",
       "    <tr>\n",
       "      <th>4</th>\n",
       "      <td>tt0111161</td>\n",
       "      <td>clancy brown</td>\n",
       "      <td>actor</td>\n",
       "      <td>captain hadley</td>\n",
       "    </tr>\n",
       "  </tbody>\n",
       "</table>\n",
       "</div>"
      ],
      "text/plain": [
       "    Movie_ID            Name Role_Type        Character_Position\n",
       "0  tt0111161     tim robbins     actor             andy dufresne\n",
       "1  tt0111161  morgan freeman     actor  ellis boyd 'red' redding\n",
       "2  tt0111161      bob gunton     actor             warden norton\n",
       "3  tt0111161  william sadler     actor                   heywood\n",
       "4  tt0111161    clancy brown     actor            captain hadley"
      ]
     },
     "execution_count": 30,
     "metadata": {},
     "output_type": "execute_result"
    }
   ],
   "source": [
    "cast_crew_data.head()"
   ]
  },
  {
   "cell_type": "code",
   "execution_count": 31,
   "id": "72a11239-cd08-414b-90bb-ce73104c9261",
   "metadata": {},
   "outputs": [],
   "source": [
    "df['Year'] = pd.to_numeric(df['Year'], errors='coerce').fillna(0).astype(int)\n",
    "df['release_date'] = pd.to_datetime(df['release_date'], format='%d-%m-%y', errors='coerce').dt.date"
   ]
  },
  {
   "cell_type": "code",
   "execution_count": 42,
   "id": "d1b80fb3-d7f2-45a2-ad28-6742418d5828",
   "metadata": {},
   "outputs": [
    {
     "name": "stdout",
     "output_type": "stream",
     "text": [
      "\n",
      "First 5 rows of Merged dataset (merged_df):\n"
     ]
    },
    {
     "data": {
      "text/html": [
       "<div>\n",
       "<style scoped>\n",
       "    .dataframe tbody tr th:only-of-type {\n",
       "        vertical-align: middle;\n",
       "    }\n",
       "\n",
       "    .dataframe tbody tr th {\n",
       "        vertical-align: top;\n",
       "    }\n",
       "\n",
       "    .dataframe thead th {\n",
       "        text-align: right;\n",
       "    }\n",
       "</style>\n",
       "<table border=\"1\" class=\"dataframe\">\n",
       "  <thead>\n",
       "    <tr style=\"text-align: right;\">\n",
       "      <th></th>\n",
       "      <th>Movie_ID</th>\n",
       "      <th>Name</th>\n",
       "      <th>Role_Type</th>\n",
       "      <th>Character_Position</th>\n",
       "      <th>Title</th>\n",
       "      <th>Year</th>\n",
       "      <th>Rating</th>\n",
       "      <th>Link</th>\n",
       "      <th>Budget</th>\n",
       "      <th>gross_revenue</th>\n",
       "      <th>official_sites</th>\n",
       "      <th>release_date</th>\n",
       "      <th>languages</th>\n",
       "      <th>genres</th>\n",
       "      <th>production_companies</th>\n",
       "      <th>filming_location</th>\n",
       "      <th>country_of_origin</th>\n",
       "    </tr>\n",
       "  </thead>\n",
       "  <tbody>\n",
       "    <tr>\n",
       "      <th>0</th>\n",
       "      <td>TT0111161</td>\n",
       "      <td>tim robbins</td>\n",
       "      <td>actor</td>\n",
       "      <td>andy dufresne</td>\n",
       "      <td>the shawshank redemption</td>\n",
       "      <td>1994</td>\n",
       "      <td>9.3</td>\n",
       "      <td>https://www.imdb.com/title/tt0111161/?ref_=cht...</td>\n",
       "      <td>3300000.0</td>\n",
       "      <td>30681033</td>\n",
       "      <td>official sitesofficial facebookofficial site</td>\n",
       "      <td>NaT</td>\n",
       "      <td>['portuguese']</td>\n",
       "      <td>['caper', 'coming-of-age', 'gangster', 'crime'...</td>\n",
       "      <td>o2 filmes</td>\n",
       "      <td>rio de janeiro, rio de janeiro, brazil</td>\n",
       "      <td>brazil, france</td>\n",
       "    </tr>\n",
       "    <tr>\n",
       "      <th>1</th>\n",
       "      <td>TT0111161</td>\n",
       "      <td>morgan freeman</td>\n",
       "      <td>actor</td>\n",
       "      <td>ellis boyd 'red' redding</td>\n",
       "      <td>the shawshank redemption</td>\n",
       "      <td>1994</td>\n",
       "      <td>9.3</td>\n",
       "      <td>https://www.imdb.com/title/tt0111161/?ref_=cht...</td>\n",
       "      <td>3300000.0</td>\n",
       "      <td>30681033</td>\n",
       "      <td>official sitesofficial facebookofficial site</td>\n",
       "      <td>NaT</td>\n",
       "      <td>['portuguese']</td>\n",
       "      <td>['caper', 'coming-of-age', 'gangster', 'crime'...</td>\n",
       "      <td>o2 filmes</td>\n",
       "      <td>rio de janeiro, rio de janeiro, brazil</td>\n",
       "      <td>brazil, france</td>\n",
       "    </tr>\n",
       "    <tr>\n",
       "      <th>2</th>\n",
       "      <td>TT0111161</td>\n",
       "      <td>bob gunton</td>\n",
       "      <td>actor</td>\n",
       "      <td>warden norton</td>\n",
       "      <td>the shawshank redemption</td>\n",
       "      <td>1994</td>\n",
       "      <td>9.3</td>\n",
       "      <td>https://www.imdb.com/title/tt0111161/?ref_=cht...</td>\n",
       "      <td>3300000.0</td>\n",
       "      <td>30681033</td>\n",
       "      <td>official sitesofficial facebookofficial site</td>\n",
       "      <td>NaT</td>\n",
       "      <td>['portuguese']</td>\n",
       "      <td>['caper', 'coming-of-age', 'gangster', 'crime'...</td>\n",
       "      <td>o2 filmes</td>\n",
       "      <td>rio de janeiro, rio de janeiro, brazil</td>\n",
       "      <td>brazil, france</td>\n",
       "    </tr>\n",
       "    <tr>\n",
       "      <th>3</th>\n",
       "      <td>TT0111161</td>\n",
       "      <td>william sadler</td>\n",
       "      <td>actor</td>\n",
       "      <td>heywood</td>\n",
       "      <td>the shawshank redemption</td>\n",
       "      <td>1994</td>\n",
       "      <td>9.3</td>\n",
       "      <td>https://www.imdb.com/title/tt0111161/?ref_=cht...</td>\n",
       "      <td>3300000.0</td>\n",
       "      <td>30681033</td>\n",
       "      <td>official sitesofficial facebookofficial site</td>\n",
       "      <td>NaT</td>\n",
       "      <td>['portuguese']</td>\n",
       "      <td>['caper', 'coming-of-age', 'gangster', 'crime'...</td>\n",
       "      <td>o2 filmes</td>\n",
       "      <td>rio de janeiro, rio de janeiro, brazil</td>\n",
       "      <td>brazil, france</td>\n",
       "    </tr>\n",
       "    <tr>\n",
       "      <th>4</th>\n",
       "      <td>TT0111161</td>\n",
       "      <td>clancy brown</td>\n",
       "      <td>actor</td>\n",
       "      <td>captain hadley</td>\n",
       "      <td>the shawshank redemption</td>\n",
       "      <td>1994</td>\n",
       "      <td>9.3</td>\n",
       "      <td>https://www.imdb.com/title/tt0111161/?ref_=cht...</td>\n",
       "      <td>3300000.0</td>\n",
       "      <td>30681033</td>\n",
       "      <td>official sitesofficial facebookofficial site</td>\n",
       "      <td>NaT</td>\n",
       "      <td>['portuguese']</td>\n",
       "      <td>['caper', 'coming-of-age', 'gangster', 'crime'...</td>\n",
       "      <td>o2 filmes</td>\n",
       "      <td>rio de janeiro, rio de janeiro, brazil</td>\n",
       "      <td>brazil, france</td>\n",
       "    </tr>\n",
       "  </tbody>\n",
       "</table>\n",
       "</div>"
      ],
      "text/plain": [
       "    Movie_ID            Name Role_Type        Character_Position  \\\n",
       "0  TT0111161     tim robbins     actor             andy dufresne   \n",
       "1  TT0111161  morgan freeman     actor  ellis boyd 'red' redding   \n",
       "2  TT0111161      bob gunton     actor             warden norton   \n",
       "3  TT0111161  william sadler     actor                   heywood   \n",
       "4  TT0111161    clancy brown     actor            captain hadley   \n",
       "\n",
       "                      Title  Year  Rating  \\\n",
       "0  the shawshank redemption  1994     9.3   \n",
       "1  the shawshank redemption  1994     9.3   \n",
       "2  the shawshank redemption  1994     9.3   \n",
       "3  the shawshank redemption  1994     9.3   \n",
       "4  the shawshank redemption  1994     9.3   \n",
       "\n",
       "                                                Link     Budget  \\\n",
       "0  https://www.imdb.com/title/tt0111161/?ref_=cht...  3300000.0   \n",
       "1  https://www.imdb.com/title/tt0111161/?ref_=cht...  3300000.0   \n",
       "2  https://www.imdb.com/title/tt0111161/?ref_=cht...  3300000.0   \n",
       "3  https://www.imdb.com/title/tt0111161/?ref_=cht...  3300000.0   \n",
       "4  https://www.imdb.com/title/tt0111161/?ref_=cht...  3300000.0   \n",
       "\n",
       "   gross_revenue                                official_sites release_date  \\\n",
       "0       30681033  official sitesofficial facebookofficial site          NaT   \n",
       "1       30681033  official sitesofficial facebookofficial site          NaT   \n",
       "2       30681033  official sitesofficial facebookofficial site          NaT   \n",
       "3       30681033  official sitesofficial facebookofficial site          NaT   \n",
       "4       30681033  official sitesofficial facebookofficial site          NaT   \n",
       "\n",
       "        languages                                             genres  \\\n",
       "0  ['portuguese']  ['caper', 'coming-of-age', 'gangster', 'crime'...   \n",
       "1  ['portuguese']  ['caper', 'coming-of-age', 'gangster', 'crime'...   \n",
       "2  ['portuguese']  ['caper', 'coming-of-age', 'gangster', 'crime'...   \n",
       "3  ['portuguese']  ['caper', 'coming-of-age', 'gangster', 'crime'...   \n",
       "4  ['portuguese']  ['caper', 'coming-of-age', 'gangster', 'crime'...   \n",
       "\n",
       "  production_companies                        filming_location  \\\n",
       "0            o2 filmes  rio de janeiro, rio de janeiro, brazil   \n",
       "1            o2 filmes  rio de janeiro, rio de janeiro, brazil   \n",
       "2            o2 filmes  rio de janeiro, rio de janeiro, brazil   \n",
       "3            o2 filmes  rio de janeiro, rio de janeiro, brazil   \n",
       "4            o2 filmes  rio de janeiro, rio de janeiro, brazil   \n",
       "\n",
       "  country_of_origin  \n",
       "0    brazil, france  \n",
       "1    brazil, france  \n",
       "2    brazil, france  \n",
       "3    brazil, france  \n",
       "4    brazil, france  "
      ]
     },
     "execution_count": 42,
     "metadata": {},
     "output_type": "execute_result"
    }
   ],
   "source": [
    "df['Movie_ID'] = df['Movie_ID'].str.strip().str.upper()\n",
    "cast_crew_data['Movie_ID'] = cast_crew_data['Movie_ID'].str.strip().str.upper()\n",
    "\n",
    "cast_crew_data = cast_crew_data[cast_crew_data['Movie_ID'].isin(df['Movie_ID'])]\n",
    "\n",
    "merged_df = pd.merge(cast_crew_data, df, on='Movie_ID', how='inner')\n",
    "\n",
    "print(\"\\nFirst 5 rows of Merged dataset (merged_df):\")\n",
    "merged_df.head()"
   ]
  },
  {
   "cell_type": "code",
   "execution_count": 44,
   "id": "cae45eb1-84fa-43c4-802b-c7d2203fc58a",
   "metadata": {},
   "outputs": [
    {
     "name": "stdout",
     "output_type": "stream",
     "text": [
      "The data has been saved in: imdb_complete_data_cleaned.csv\n"
     ]
    }
   ],
   "source": [
    "merged_df.to_csv('imdb_complete_data_cleaned.csv', index=False, encoding='utf-8-sig')\n",
    "print(\"The data has been saved in: imdb_complete_data_cleaned.csv\")"
   ]
  },
  {
   "cell_type": "markdown",
   "id": "645bdf96-a386-4e72-b91d-1ace0adb2bbb",
   "metadata": {},
   "source": [
    "# **<span style=\"color:#1E90FF\">Task 3: Loading Data and Executing Queries in MySQL Database Server  :</span>**\n",
    "---"
   ]
  },
  {
   "cell_type": "markdown",
   "id": "bbb7253f-dd1e-496e-baaa-49ee7055d4b6",
   "metadata": {},
   "source": [
    "**<h2 style=\"color: #00008B;\">A. Set Up a Local MySQL Database:</h2>**\n",
    "\n",
    "<h3 style=\"color: #00008B;\">1. Set Up a Local MySQL Database:</h3>\n",
    "<ul style=\"color: #00008B;\">\n",
    "  <li>Install and set up a MySQL database server on your localhost</li>\n",
    "</ul>"
   ]
  },
  {
   "cell_type": "markdown",
   "id": "3f9efeae-8ed8-4ad1-95d7-5e898e65a615",
   "metadata": {},
   "source": [
    "**<h2 style=\"color: #00008B;\">B. Connect to the MySQL Database:</h2>**\n",
    "\n",
    "<h3 style=\"color: #00008B;\">2. Connect to the MySQL Database:</h3>\n",
    "<ul style=\"color: #00008B;\">\n",
    "  <li>Use the <code>create_engine</code> method in Python to establish a connection to your local MySQL database</li>\n",
    "</ul>\n"
   ]
  },
  {
   "cell_type": "code",
   "execution_count": 35,
   "id": "03962864-8f87-4e1c-980a-c69f58446ecf",
   "metadata": {},
   "outputs": [],
   "source": [
    "from sqlalchemy import create_engine\n",
    "username = \"root\"\n",
    "password = \"Nagham123\" \n",
    "host = \"localhost\"\n",
    "port = \"3306\"\n",
    "database_name = \"imdb_etl\" \n",
    "engine = create_engine(f\"mysql+pymysql://{username}:{password}@{host}:{port}\")"
   ]
  },
  {
   "cell_type": "markdown",
   "id": "9f555915-336a-479b-ae22-6efd96cd237e",
   "metadata": {},
   "source": [
    "**<h2 style=\"color: #00008B;\">C. Create a New Database:</h2>**\n",
    "\n",
    "<ul style=\"color: #00008B;\">\n",
    "  <li>Write Python code to create a new database within MySQL</li>\n",
    "</ul>"
   ]
  },
  {
   "cell_type": "code",
   "execution_count": 36,
   "id": "9b349e66-43e7-43d0-87a9-a063032f6f59",
   "metadata": {},
   "outputs": [
    {
     "name": "stdout",
     "output_type": "stream",
     "text": [
      "Data loaded successfully into 'imdb_movies' table.\n"
     ]
    }
   ],
   "source": [
    "engine_with_db = create_engine(f\"mysql+pymysql://{username}:{password}@{host}:{port}/{database_name}\")\n",
    "merged_df.to_sql(name='imdb_movies', con=engine_with_db, if_exists='replace', index=False)\n",
    "print(\"Data loaded successfully into 'imdb_movies' table.\")"
   ]
  },
  {
   "cell_type": "code",
   "execution_count": 37,
   "id": "76f1832e-f7d0-4dae-8087-b75c214037ea",
   "metadata": {},
   "outputs": [
    {
     "data": {
      "text/html": [
       "<div>\n",
       "<style scoped>\n",
       "    .dataframe tbody tr th:only-of-type {\n",
       "        vertical-align: middle;\n",
       "    }\n",
       "\n",
       "    .dataframe tbody tr th {\n",
       "        vertical-align: top;\n",
       "    }\n",
       "\n",
       "    .dataframe thead th {\n",
       "        text-align: right;\n",
       "    }\n",
       "</style>\n",
       "<table border=\"1\" class=\"dataframe\">\n",
       "  <thead>\n",
       "    <tr style=\"text-align: right;\">\n",
       "      <th></th>\n",
       "      <th>Field</th>\n",
       "      <th>Type</th>\n",
       "      <th>Null</th>\n",
       "      <th>Key</th>\n",
       "      <th>Default</th>\n",
       "      <th>Extra</th>\n",
       "    </tr>\n",
       "  </thead>\n",
       "  <tbody>\n",
       "    <tr>\n",
       "      <th>0</th>\n",
       "      <td>Movie_ID</td>\n",
       "      <td>text</td>\n",
       "      <td>YES</td>\n",
       "      <td></td>\n",
       "      <td>None</td>\n",
       "      <td></td>\n",
       "    </tr>\n",
       "    <tr>\n",
       "      <th>1</th>\n",
       "      <td>Name</td>\n",
       "      <td>text</td>\n",
       "      <td>YES</td>\n",
       "      <td></td>\n",
       "      <td>None</td>\n",
       "      <td></td>\n",
       "    </tr>\n",
       "    <tr>\n",
       "      <th>2</th>\n",
       "      <td>Role_Type</td>\n",
       "      <td>text</td>\n",
       "      <td>YES</td>\n",
       "      <td></td>\n",
       "      <td>None</td>\n",
       "      <td></td>\n",
       "    </tr>\n",
       "    <tr>\n",
       "      <th>3</th>\n",
       "      <td>Character_Position</td>\n",
       "      <td>text</td>\n",
       "      <td>YES</td>\n",
       "      <td></td>\n",
       "      <td>None</td>\n",
       "      <td></td>\n",
       "    </tr>\n",
       "    <tr>\n",
       "      <th>4</th>\n",
       "      <td>Title</td>\n",
       "      <td>text</td>\n",
       "      <td>YES</td>\n",
       "      <td></td>\n",
       "      <td>None</td>\n",
       "      <td></td>\n",
       "    </tr>\n",
       "    <tr>\n",
       "      <th>5</th>\n",
       "      <td>Year</td>\n",
       "      <td>int</td>\n",
       "      <td>YES</td>\n",
       "      <td></td>\n",
       "      <td>None</td>\n",
       "      <td></td>\n",
       "    </tr>\n",
       "    <tr>\n",
       "      <th>6</th>\n",
       "      <td>Rating</td>\n",
       "      <td>double</td>\n",
       "      <td>YES</td>\n",
       "      <td></td>\n",
       "      <td>None</td>\n",
       "      <td></td>\n",
       "    </tr>\n",
       "    <tr>\n",
       "      <th>7</th>\n",
       "      <td>Link</td>\n",
       "      <td>text</td>\n",
       "      <td>YES</td>\n",
       "      <td></td>\n",
       "      <td>None</td>\n",
       "      <td></td>\n",
       "    </tr>\n",
       "    <tr>\n",
       "      <th>8</th>\n",
       "      <td>Budget</td>\n",
       "      <td>double</td>\n",
       "      <td>YES</td>\n",
       "      <td></td>\n",
       "      <td>None</td>\n",
       "      <td></td>\n",
       "    </tr>\n",
       "    <tr>\n",
       "      <th>9</th>\n",
       "      <td>gross_revenue</td>\n",
       "      <td>bigint</td>\n",
       "      <td>YES</td>\n",
       "      <td></td>\n",
       "      <td>None</td>\n",
       "      <td></td>\n",
       "    </tr>\n",
       "    <tr>\n",
       "      <th>10</th>\n",
       "      <td>official_sites</td>\n",
       "      <td>text</td>\n",
       "      <td>YES</td>\n",
       "      <td></td>\n",
       "      <td>None</td>\n",
       "      <td></td>\n",
       "    </tr>\n",
       "    <tr>\n",
       "      <th>11</th>\n",
       "      <td>release_date</td>\n",
       "      <td>datetime</td>\n",
       "      <td>YES</td>\n",
       "      <td></td>\n",
       "      <td>None</td>\n",
       "      <td></td>\n",
       "    </tr>\n",
       "    <tr>\n",
       "      <th>12</th>\n",
       "      <td>languages</td>\n",
       "      <td>text</td>\n",
       "      <td>YES</td>\n",
       "      <td></td>\n",
       "      <td>None</td>\n",
       "      <td></td>\n",
       "    </tr>\n",
       "    <tr>\n",
       "      <th>13</th>\n",
       "      <td>genres</td>\n",
       "      <td>text</td>\n",
       "      <td>YES</td>\n",
       "      <td></td>\n",
       "      <td>None</td>\n",
       "      <td></td>\n",
       "    </tr>\n",
       "    <tr>\n",
       "      <th>14</th>\n",
       "      <td>production_companies</td>\n",
       "      <td>text</td>\n",
       "      <td>YES</td>\n",
       "      <td></td>\n",
       "      <td>None</td>\n",
       "      <td></td>\n",
       "    </tr>\n",
       "    <tr>\n",
       "      <th>15</th>\n",
       "      <td>filming_location</td>\n",
       "      <td>text</td>\n",
       "      <td>YES</td>\n",
       "      <td></td>\n",
       "      <td>None</td>\n",
       "      <td></td>\n",
       "    </tr>\n",
       "    <tr>\n",
       "      <th>16</th>\n",
       "      <td>country_of_origin</td>\n",
       "      <td>text</td>\n",
       "      <td>YES</td>\n",
       "      <td></td>\n",
       "      <td>None</td>\n",
       "      <td></td>\n",
       "    </tr>\n",
       "  </tbody>\n",
       "</table>\n",
       "</div>"
      ],
      "text/plain": [
       "                   Field      Type Null Key Default Extra\n",
       "0               Movie_ID      text  YES        None      \n",
       "1                   Name      text  YES        None      \n",
       "2              Role_Type      text  YES        None      \n",
       "3     Character_Position      text  YES        None      \n",
       "4                  Title      text  YES        None      \n",
       "5                   Year       int  YES        None      \n",
       "6                 Rating    double  YES        None      \n",
       "7                   Link      text  YES        None      \n",
       "8                 Budget    double  YES        None      \n",
       "9          gross_revenue    bigint  YES        None      \n",
       "10        official_sites      text  YES        None      \n",
       "11          release_date  datetime  YES        None      \n",
       "12             languages      text  YES        None      \n",
       "13                genres      text  YES        None      \n",
       "14  production_companies      text  YES        None      \n",
       "15      filming_location      text  YES        None      \n",
       "16     country_of_origin      text  YES        None      "
      ]
     },
     "execution_count": 37,
     "metadata": {},
     "output_type": "execute_result"
    }
   ],
   "source": [
    "pd.read_sql(\"SHOW COLUMNS FROM imdb_movies;\", con=engine_with_db)"
   ]
  },
  {
   "cell_type": "markdown",
   "id": "3f6b7f8d-7cc1-458c-a3ed-794a09a5e349",
   "metadata": {},
   "source": [
    "**<h2 style=\"color: #00008B;\">D. Load the Integrated Dataset:</h2>**\n",
    "\n",
    "<ul style=\"color: #00008B;\">\n",
    "  <li>Load the cleaned and transformed dataset into the newly created MySQL database using Python</li>\n",
    "</ul>"
   ]
  },
  {
   "cell_type": "code",
   "execution_count": 38,
   "id": "e149773f-4776-4c4b-befb-5ad237409f05",
   "metadata": {},
   "outputs": [
    {
     "name": "stdout",
     "output_type": "stream",
     "text": [
      "Most rated:\n",
      "                                              genres  count\n",
      "0  ['epic', 'gangster', 'tragedy', 'crime', 'drama']      2\n"
     ]
    }
   ],
   "source": [
    "query1 = \"\"\"\n",
    "SELECT genres, COUNT(*) AS count\n",
    "FROM (\n",
    "    SELECT DISTINCT title, genres\n",
    "    FROM imdb_movies\n",
    ") AS unique_movies\n",
    "GROUP BY genres\n",
    "ORDER BY count DESC\n",
    "LIMIT 1;\n",
    "\"\"\"\n",
    "\n",
    "df1 = pd.read_sql(query1, con=engine_with_db)\n",
    "print(\"Most rated:\")\n",
    "print(df1)"
   ]
  },
  {
   "cell_type": "code",
   "execution_count": 39,
   "id": "96be3679-331a-4079-a91d-de7822667ce8",
   "metadata": {},
   "outputs": [
    {
     "name": "stdout",
     "output_type": "stream",
     "text": [
      "Top 5 Rated Movies:\n",
      "                      title  rating\n",
      "0  the shawshank redemption     9.3\n",
      "1             the godfather     9.2\n",
      "2           the dark knight     9.0\n",
      "3     the godfather part ii     9.0\n",
      "4              12 angry men     9.0\n"
     ]
    }
   ],
   "source": [
    "query2 = \"\"\"\n",
    "SELECT title, MAX(rating) AS rating\n",
    "FROM imdb_movies\n",
    "GROUP BY title\n",
    "ORDER BY rating DESC\n",
    "LIMIT 5;\n",
    "\"\"\"\n",
    "\n",
    "df2 = pd.read_sql(query2, con=engine_with_db)\n",
    "print(\"Top 5 Rated Movies:\")\n",
    "print(df2)"
   ]
  },
  {
   "cell_type": "code",
   "execution_count": 40,
   "id": "550a0104-6dee-44f6-8967-d8040149444d",
   "metadata": {},
   "outputs": [
    {
     "name": "stdout",
     "output_type": "stream",
     "text": [
      "Number of unique films per year:\n",
      "    Year  movie_count\n",
      "0   1946            1\n",
      "1   1954            1\n",
      "2   1957            1\n",
      "3   1966            1\n",
      "4   1972            1\n",
      "5   1974            1\n",
      "6   1975            1\n",
      "7   1980            1\n",
      "8   1990            1\n",
      "9   1991            1\n",
      "10  1993            1\n",
      "11  1994            3\n",
      "12  1995            1\n",
      "13  1998            1\n",
      "14  1999            2\n",
      "15  2001            1\n",
      "16  2002            2\n",
      "17  2003            1\n",
      "18  2008            1\n",
      "19  2010            1\n",
      "20  2014            1\n"
     ]
    }
   ],
   "source": [
    "query3 = \"\"\"\n",
    "    SELECT Year, COUNT(*) AS movie_count\n",
    "    FROM (\n",
    "        SELECT DISTINCT Title, Year\n",
    "        FROM imdb_movies\n",
    "    ) AS unique_movies\n",
    "    GROUP BY Year\n",
    "    ORDER BY Year;\n",
    "\"\"\"\n",
    "\n",
    "df3 = pd.read_sql(query3, con=engine_with_db)\n",
    "print(\"Number of unique films per year:\")\n",
    "print(df3)"
   ]
  },
  {
   "cell_type": "markdown",
   "id": "fc0528f0-28bf-494f-86c5-ec5bf38d29ac",
   "metadata": {},
   "source": [
    "**<h2 style=\"color: #00008B;\">THE END...</h2>**"
   ]
  },
  {
   "cell_type": "code",
   "execution_count": null,
   "id": "373b1078-8070-4f6e-8065-c6a5e69d00fa",
   "metadata": {},
   "outputs": [],
   "source": []
  }
 ],
 "metadata": {
  "kernelspec": {
   "display_name": "Python 3 (ipykernel)",
   "language": "python",
   "name": "python3"
  },
  "language_info": {
   "codemirror_mode": {
    "name": "ipython",
    "version": 3
   },
   "file_extension": ".py",
   "mimetype": "text/x-python",
   "name": "python",
   "nbconvert_exporter": "python",
   "pygments_lexer": "ipython3",
   "version": "3.11.5"
  }
 },
 "nbformat": 4,
 "nbformat_minor": 5
}
